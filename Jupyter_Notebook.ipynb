{
 "cells": [
  {
   "cell_type": "markdown",
   "id": "df144abc-7ea3-40b7-9bc0-6c503c811046",
   "metadata": {},
   "source": [
    "# \"My Jupyter Notebook on IBM Watson Studio\""
   ]
  },
  {
   "cell_type": "markdown",
   "id": "44fea72e-76c2-4e80-aadb-76285b278598",
   "metadata": {},
   "source": [
    "**Harshita Rana**"
   ]
  },
  {
   "cell_type": "markdown",
   "id": "53c7f499-c826-4fdd-8cf8-c73690d8cee2",
   "metadata": {},
   "source": [
    "*I am interested in data science because I love to play with data and have curiosity to derive insights from the particular data*"
   ]
  },
  {
   "cell_type": "markdown",
   "id": "7fbd0a89-3537-48cc-8821-6181ff1e250d",
   "metadata": {},
   "source": [
    "### \"I'LL show you how to work on a code\""
   ]
  },
  {
   "cell_type": "code",
   "execution_count": 1,
   "id": "41b3b3cd-ef86-4cb3-8757-661b5bc30b1b",
   "metadata": {},
   "outputs": [
    {
     "data": {
      "text/plain": [
       "2"
      ]
     },
     "execution_count": 1,
     "metadata": {},
     "output_type": "execute_result"
    }
   ],
   "source": [
    "1+1"
   ]
  },
  {
   "cell_type": "markdown",
   "id": "875e98f9-3d3c-4a15-9f2e-9428d39b1fe5",
   "metadata": {},
   "source": [
    " ****My name is harshita rana****"
   ]
  },
  {
   "cell_type": "markdown",
   "id": "0716094e-4ccc-48e1-b6e1-29dde9e8667b",
   "metadata": {},
   "source": [
    " 1. data science\n",
    " 2. data analysis\n"
   ]
  },
  {
   "attachments": {
    "7e4b1a54-0d91-46b1-af63-d83963e08794.jpg": {
     "image/jpeg": "[encoded data removed]"
    }
   },
   "cell_type": "markdown",
   "id": "eb1e5ec9-d902-4a2c-bc28-b374b1e4380f",
   "metadata": {},
   "source": [
    "![1.jpg](attachment:7e4b1a54-0d91-46b1-af63-d83963e08794.jpg)"
   ]
  },
  {
   "cell_type": "code",
   "execution_count": null,
   "id": "253f5d21-7607-4991-abe9-221d99deb099",
   "metadata": {},
   "outputs": [],
   "source": []
  }
 ],
 "metadata": {
  "kernelspec": {
   "display_name": "Python",
   "language": "python",
   "name": "conda-env-python-py"
  },
  "language_info": {
   "codemirror_mode": {
    "name": "ipython",
    "version": 3
   },
   "file_extension": ".py",
   "mimetype": "text/x-python",
   "name": "python",
   "nbconvert_exporter": "python",
   "pygments_lexer": "ipython3",
   "version": "3.7.12"
  }
 },
 "nbformat": 4,
 "nbformat_minor": 5
}
